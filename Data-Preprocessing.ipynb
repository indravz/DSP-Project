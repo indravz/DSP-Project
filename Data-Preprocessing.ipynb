{
 "cells": [
  {
   "cell_type": "code",
   "execution_count": 76,
   "metadata": {},
   "outputs": [
    {
     "name": "stdout",
     "output_type": "stream",
     "text": [
      "Requirement already satisfied: pytesseract in c:\\users\\indra\\anaconda3\\lib\\site-packages (0.3.0)\n",
      "Requirement already satisfied: Pillow in c:\\users\\indra\\anaconda3\\lib\\site-packages (from pytesseract) (6.1.0)\n"
     ]
    }
   ],
   "source": [
    "! pip install pytesseract"
   ]
  },
  {
   "cell_type": "code",
   "execution_count": 2,
   "metadata": {},
   "outputs": [],
   "source": [
    "from PIL import Image\n",
    "import pytesseract"
   ]
  },
  {
   "cell_type": "code",
   "execution_count": 6,
   "metadata": {},
   "outputs": [],
   "source": [
    "im= Image.open(\"Medical_History.jpg\")"
   ]
  },
  {
   "cell_type": "code",
   "execution_count": 7,
   "metadata": {},
   "outputs": [],
   "source": [
    "text = pytesseract.image_to_string(im, lang = 'eng')"
   ]
  },
  {
   "cell_type": "code",
   "execution_count": 8,
   "metadata": {},
   "outputs": [
    {
     "name": "stdout",
     "output_type": "stream",
     "text": [
      "Medical History & Immunization Form\n",
      "\n",
      "STUDENT AFFAIRS Name: INDRA REDDY GAYAM\n",
      "ea\n",
      "\n",
      "& STUDENT SUCCESS ‘birthdate: 1993 USF ID #: 7372297\n",
      "\n",
      "UNIVERSITY OF SOU ITH FLORIDA.\n",
      "\n",
      "semTare Email inaltayeddy.ece as)-lor)\n",
      "STUDENT HEALTH SERVICES Phone #4 9 705376)57 Incoming Semester: C py; : 20)4\n",
      "\n",
      "This SIGNED and COMPLETED form is required prior to orientation/course registration (instructions on page 2)\n",
      "An official translation is required for any forms not in the English language\n",
      "\n",
      "Section A: Required Immunizatlons for ALL students born after 12/31/1956\n",
      "\n",
      "Month/Day/Year TITER DATE & RESULT\n",
      "\n",
      "1. MMR nee Attach Lab REBOIT\n",
      "Two doses after first birthday | ©) 3 | 2 \\ jraay j 2 | } + jo y DO NO WRITE\n",
      "OR igg titer\n",
      "\n",
      "Attach Quantitative Lab Report\n",
      "09 | 2y| 1493 10 | 271 [1493 \\) 25] 1943\n",
      "\n",
      "         \n",
      "\n",
      "     \n",
      "\n",
      " \n",
      "\n",
      "     \n",
      " \n",
      "  \n",
      "\n",
      " \n",
      "     \n",
      "  \n",
      "   \n",
      " \n",
      "\n",
      "  \n",
      " \n",
      "   \n",
      "\n",
      "2. Hepatitis B\n",
      "Three doses OR check the\n",
      "decline box\n",
      "\n",
      "   \n",
      "\n",
      "CD Thave read the information about Hepatitis B and decline receipt of this vaccine\n",
      "\n",
      "O 7] |2 [xo10 DO NOT WRITE HERE\n",
      "\n",
      "01 Thave read the information about Menactra/Meningococcal Meningitis and decline receipt of this vaccine\n",
      "\n",
      " \n",
      "\n",
      "  \n",
      "   \n",
      "\n",
      "    \n",
      "  \n",
      " \n",
      "\n",
      "3. Meningitis\n",
      "A, C, Y, W-135\n",
      "One dose after 16th birthday\n",
      "\n",
      "OR check the decline box\n",
      "\n",
      "  \n",
      "    \n",
      "   \n",
      " \n",
      " \n",
      " \n",
      "  \n",
      " \n",
      "  \n",
      " \n",
      "  \n",
      "   \n",
      "   \n",
      "  \n",
      "\n",
      "‘4A Gini r fey lpni\n",
      "(4. signature Os Student\n",
      "\n",
      " \n",
      "   \n",
      "\n",
      "5. Tuberculosis Screening: within the last 6 months prior to semester\n",
      "\n",
      "Required for all students residing at an address outside the US at the time of application\n",
      "\n",
      "Result\n",
      "\n",
      " \n",
      "   \n",
      "    \n",
      "\n",
      "TB Skin Test by PPD\n",
      "Mantoux\n",
      "\n",
      "Must be read 2-3 days after\n",
      "injection\n",
      "or Blood Test/ Lab\n",
      "QFT or Tspet only\n",
      "\n",
      "  \n",
      "   \n",
      "   \n",
      "   \n",
      "  \n",
      " \n",
      "\n",
      " \n",
      "\n",
      "MM: . .\n",
      "\n",
      "No imfuration\n",
      "induration of millimeters\n",
      "\n",
      "(two digit values only)\n",
      "\n",
      " \n",
      "   \n",
      "  \n",
      "\n",
      "POSITIVE / NEGATIVE\n",
      "\n",
      "  \n",
      "\n",
      "Submit Copy of Lab Report\n",
      "\n",
      "   \n",
      " \n",
      "\n",
      "  \n",
      " \n",
      "\n",
      "or Chest X-ray\n",
      "if positive PPD or Lab\n",
      "\n",
      "  \n",
      " \n",
      "\n",
      "Submit Physician Signed Chest X-ray Report\n",
      "\n",
      " \n",
      "  \n",
      " \n",
      "\n",
      " \n",
      " \n",
      "  \n",
      "\n",
      "Section B: Official stamp with address AND an authorized signature must appear here or this form will not be\n",
      "approved. Official stamp d\n",
      "\n",
      "——\n",
      "\n",
      " \n",
      "\n",
      "IMPORTANT! Keep a Copy of This Page And All Lab Reports ret ottll, Sag\n",
      "Submit at least three (3) weeks prior to orientation En ea ge?\n",
      "\n",
      "Upload form to Admissions Portal (instructions on pg RABAT secure vacollegeapp.com/usf\n",
      "\n",
      "Page 1 of 2 Updated 6/29/2017\n"
     ]
    }
   ],
   "source": [
    "print(text)"
   ]
  },
  {
   "cell_type": "code",
   "execution_count": 1,
   "metadata": {},
   "outputs": [
    {
     "name": "stdout",
     "output_type": "stream",
     "text": [
      "Collecting opencv-python\n",
      "  Downloading https://files.pythonhosted.org/packages/1f/51/e0b9cef23098bc31c77b0e06221dd8d05119b9782d4c2b1d1482e22b5f5e/opencv_python-4.1.1.26-cp37-cp37m-win_amd64.whl (39.0MB)\n",
      "Requirement already satisfied: numpy>=1.14.5 in c:\\users\\indra\\anaconda3\\lib\\site-packages (from opencv-python) (1.16.4)\n",
      "Installing collected packages: opencv-python\n",
      "Successfully installed opencv-python-4.1.1.26\n"
     ]
    }
   ],
   "source": [
    "!pip install opencv-python"
   ]
  },
  {
   "cell_type": "code",
   "execution_count": 1,
   "metadata": {},
   "outputs": [
    {
     "name": "stdout",
     "output_type": "stream",
     "text": [
      "Requirement already up-to-date: imutils in c:\\users\\indra\\anaconda3\\lib\\site-packages (0.5.3)\n"
     ]
    }
   ],
   "source": [
    "import cv2\n",
    "import numpy as np\n",
    "!pip install --upgrade imutils"
   ]
  },
  {
   "cell_type": "code",
   "execution_count": 2,
   "metadata": {},
   "outputs": [],
   "source": [
    "img = cv2.imread(\"Medical_History.jpg\")"
   ]
  },
  {
   "cell_type": "code",
   "execution_count": 3,
   "metadata": {},
   "outputs": [
    {
     "name": "stdout",
     "output_type": "stream",
     "text": [
      "<class 'numpy.ndarray'>\n"
     ]
    }
   ],
   "source": [
    "print(type(img))"
   ]
  },
  {
   "cell_type": "code",
   "execution_count": 4,
   "metadata": {},
   "outputs": [
    {
     "data": {
      "text/plain": [
       "-1"
      ]
     },
     "execution_count": 4,
     "metadata": {},
     "output_type": "execute_result"
    }
   ],
   "source": [
    "imS = cv2.resize(img, (500, 500))                    \n",
    "cv2.imshow('Original Image', imS) \n",
    "cv2.waitKey(0)"
   ]
  },
  {
   "cell_type": "code",
   "execution_count": 5,
   "metadata": {},
   "outputs": [
    {
     "name": "stdout",
     "output_type": "stream",
     "text": [
      "(3384, 2302)\n"
     ]
    }
   ],
   "source": [
    "print(img.shape[0:2])"
   ]
  },
  {
   "cell_type": "code",
   "execution_count": 6,
   "metadata": {},
   "outputs": [],
   "source": [
    "height, width = img.shape[0:2]"
   ]
  },
  {
   "cell_type": "code",
   "execution_count": 7,
   "metadata": {},
   "outputs": [],
   "source": [
    "rotationMatrix = cv2.getRotationMatrix2D((width/2, height/2), 90, .5)"
   ]
  },
  {
   "cell_type": "code",
   "execution_count": 8,
   "metadata": {},
   "outputs": [],
   "source": [
    "rotatedImage = cv2.warpAffine(img, rotationMatrix, (width, height))"
   ]
  },
  {
   "cell_type": "code",
   "execution_count": 9,
   "metadata": {},
   "outputs": [
    {
     "data": {
      "text/plain": [
       "-1"
      ]
     },
     "execution_count": 9,
     "metadata": {},
     "output_type": "execute_result"
    }
   ],
   "source": [
    "cv2.imshow('Rotated Image', rotatedImage)\n",
    " \n",
    "cv2.waitKey(0)"
   ]
  },
  {
   "cell_type": "code",
   "execution_count": 10,
   "metadata": {},
   "outputs": [],
   "source": [
    "import PIL"
   ]
  },
  {
   "cell_type": "code",
   "execution_count": 11,
   "metadata": {},
   "outputs": [],
   "source": [
    "from pyimagesearch.transform import four_point_transform\n",
    "from skimage.filters import threshold_local\n",
    "import numpy as np\n",
    "import argparse\n",
    "import cv2\n",
    "import imutils"
   ]
  },
  {
   "cell_type": "code",
   "execution_count": 12,
   "metadata": {},
   "outputs": [
    {
     "name": "stderr",
     "output_type": "stream",
     "text": [
      "usage: ipykernel_launcher.py [-h] -i IMAGE\n",
      "ipykernel_launcher.py: error: the following arguments are required: -i/--image\n"
     ]
    },
    {
     "ename": "SystemExit",
     "evalue": "2",
     "output_type": "error",
     "traceback": [
      "An exception has occurred, use %tb to see the full traceback.\n",
      "\u001b[1;31mSystemExit\u001b[0m\u001b[1;31m:\u001b[0m 2\n"
     ]
    },
    {
     "name": "stderr",
     "output_type": "stream",
     "text": [
      "C:\\Users\\INDRA\\Anaconda3\\lib\\site-packages\\IPython\\core\\interactiveshell.py:3333: UserWarning: To exit: use 'exit', 'quit', or Ctrl-D.\n",
      "  warn(\"To exit: use 'exit', 'quit', or Ctrl-D.\", stacklevel=1)\n"
     ]
    }
   ],
   "source": [
    "ap = argparse.ArgumentParser()\n",
    "ap.add_argument(\"-i\", \"--image\", required = True,\n",
    "   help = \"20191103_173221.jpg\")\n",
    "args = vars(ap.parse_args())"
   ]
  },
  {
   "cell_type": "code",
   "execution_count": 15,
   "metadata": {},
   "outputs": [],
   "source": [
    "image = cv2.imread(\"Medical_History.jpg\")\n",
    "ratio = image.shape[0] / 500.0\n",
    "orig = image.copy()\n",
    "image = imutils.resize(image, height = 500)\n"
   ]
  },
  {
   "cell_type": "code",
   "execution_count": 16,
   "metadata": {},
   "outputs": [
    {
     "data": {
      "text/plain": [
       "numpy.ndarray"
      ]
     },
     "execution_count": 16,
     "metadata": {},
     "output_type": "execute_result"
    }
   ],
   "source": [
    "type(image)"
   ]
  },
  {
   "cell_type": "code",
   "execution_count": 17,
   "metadata": {},
   "outputs": [],
   "source": [
    "gray = cv2.cvtColor(image, cv2.COLOR_BGR2GRAY)\n",
    "gray = cv2.GaussianBlur(gray, (5, 5), 0)\n",
    "edged = cv2.Canny(gray, 75, 200)"
   ]
  },
  {
   "cell_type": "code",
   "execution_count": 18,
   "metadata": {},
   "outputs": [
    {
     "name": "stdout",
     "output_type": "stream",
     "text": [
      "STEP 1: Edge Detection\n"
     ]
    }
   ],
   "source": [
    "print(\"STEP 1: Edge Detection\")\n",
    "cv2.imshow(\"Image\", image)\n",
    "cv2.imshow(\"Edged\", edged)\n",
    "cv2.waitKey(0)\n",
    "cv2.destroyAllWindows()"
   ]
  },
  {
   "cell_type": "code",
   "execution_count": 19,
   "metadata": {},
   "outputs": [
    {
     "name": "stdout",
     "output_type": "stream",
     "text": [
      "STEP 2: Find contours of paper\n"
     ]
    }
   ],
   "source": [
    "#screenCnt=None\n",
    "cnts = cv2.findContours(edged.copy(), cv2.RETR_LIST, cv2.CHAIN_APPROX_SIMPLE)\n",
    "cnts = imutils.grab_contours(cnts)\n",
    "cnts = sorted(cnts, key = cv2.contourArea, reverse = True)[:5]\n",
    " \n",
    "# loop over the contours\n",
    "for c in cnts:\n",
    "    # approximate the contour\n",
    "    peri = cv2.arcLength(c, True)\n",
    "    approx = cv2.approxPolyDP(c, 0.02 * peri, True)\n",
    " \n",
    "    # if our approximated contour has four points, then we\n",
    "    # can assume that we have found our screen\n",
    "    if len(approx) == 4:\n",
    "      screenCnt = approx\n",
    "      break\n",
    " \n",
    "# show the contour (outline) of the piece of paper\n",
    "print(\"STEP 2: Find contours of paper\")\n",
    "cv2.drawContours(image, [screenCnt], -1, (0, 255, 0), 2)\n",
    "cv2.imshow(\"Outline\", image)\n",
    "cv2.waitKey(0)\n",
    "cv2.destroyAllWindows()"
   ]
  },
  {
   "cell_type": "code",
   "execution_count": 67,
   "metadata": {
    "scrolled": true
   },
   "outputs": [
    {
     "name": "stdout",
     "output_type": "stream",
     "text": [
      "STEP 3: Apply perspective transform\n"
     ]
    },
    {
     "data": {
      "text/plain": [
       "-1"
      ]
     },
     "execution_count": 67,
     "metadata": {},
     "output_type": "execute_result"
    }
   ],
   "source": [
    "# apply the four point transform to obtain a top-down\n",
    "# view of the original image\n",
    "warped = four_point_transform(orig, screenCnt.reshape(4, 2) * ratio)\n",
    " \n",
    "# convert the warped image to grayscale, then threshold it\n",
    "# to give it that 'black and white' paper effect\n",
    "warped = cv2.cvtColor(warped, cv2.COLOR_BGR2GRAY)\n",
    "T = threshold_local(warped, 11, offset = 10, method = \"gaussian\")\n",
    "warped = (warped > T).astype(\"uint8\") * 255\n",
    " \n",
    "# show the original and scanned images\n",
    "print(\"STEP 3: Apply perspective transform\")\n",
    "cv2.imshow(\"Original\", imutils.resize(orig, height = 650))\n",
    "cv2.imshow(\"Scanned\", imutils.resize(warped, height = 650))\n",
    "cv2.waitKey(0)"
   ]
  },
  {
   "cell_type": "code",
   "execution_count": 68,
   "metadata": {},
   "outputs": [],
   "source": [
    "type(warped)\n",
    "image = cv2.cvtColor(warped,cv2.COLOR_GRAY2RGB)"
   ]
  },
  {
   "cell_type": "code",
   "execution_count": 69,
   "metadata": {},
   "outputs": [],
   "source": [
    "from pyimagesearch.transform import four_point_transform\n",
    "import numpy as np\n",
    "import argparse\n",
    "import cv2\n"
   ]
  },
  {
   "cell_type": "code",
   "execution_count": 70,
   "metadata": {},
   "outputs": [],
   "source": [
    "import argparse\n",
    "import cv2"
   ]
  },
  {
   "cell_type": "code",
   "execution_count": 97,
   "metadata": {},
   "outputs": [],
   "source": [
    "def decode_predictions(scores, geometry):\n",
    "    # grab the number of rows and columns from the scores volume, then\n",
    "    # initialize our set of bounding box rectangles and corresponding\n",
    "    # confidence scores\n",
    "        (numRows, numCols) = scores.shape[2:4]\n",
    "        rects = []\n",
    "        confidences = []\n",
    "\n",
    "        # loop over the number of rows\n",
    "        for y in range(0, numRows):\n",
    "                # extract the scores (probabilities), followed by the\n",
    "                # geometrical data used to derive potential bounding box\n",
    "                # coordinates that surround text\n",
    "                scoresData = scores[0, 0, y]\n",
    "                xData0 = geometry[0, 0, y]\n",
    "                xData1 = geometry[0, 1, y]\n",
    "                xData2 = geometry[0, 2, y]\n",
    "                xData3 = geometry[0, 3, y]\n",
    "                anglesData = geometry[0, 4, y]\n",
    "\n",
    "                # loop over the number of columns\n",
    "                for x in range(0, numCols):\n",
    "                        # if our score does not have sufficient probability,\n",
    "                        # ignore it\n",
    "                        if scoresData[x] < 0.01 :\n",
    "                                continue\n",
    "\n",
    "                        # compute the offset factor as our resulting feature\n",
    "                        # maps will be 4x smaller than the input image\n",
    "                        (offsetX, offsetY) = (x * 4.0, y * 4.0)\n",
    "\n",
    "                        # extract the rotation angle for the prediction and\n",
    "                        # then compute the sin and cosine\n",
    "                        angle = anglesData[x]\n",
    "                        cos = np.cos(angle)\n",
    "                        sin = np.sin(angle)\n",
    "\n",
    "                        # use the geometry volume to derive the width and height\n",
    "                        # of the bounding box\n",
    "                        h = xData0[x] + xData2[x]\n",
    "                        w = xData1[x] + xData3[x]\n",
    "\n",
    "                        # compute both the starting and ending (x, y)-coordinates\n",
    "                        # for the text prediction bounding box\n",
    "                        endX = int(offsetX + (cos * xData1[x]) + (sin * xData2[x]))\n",
    "                        endY = int(offsetY - (sin * xData1[x]) + (cos * xData2[x]))\n",
    "                        startX = int(endX - w)\n",
    "                        startY = int(endY - h)\n",
    "\n",
    "                        # add the bounding box coordinates and probability score\n",
    "                        # to our respective lists\n",
    "                        rects.append((startX, startY, endX, endY))\n",
    "                        confidences.append(scoresData[x])\n",
    "\n",
    "        # return a tuple of the bounding boxes and associated confidences\n",
    "        return (rects, confidences)\n"
   ]
  },
  {
   "cell_type": "code",
   "execution_count": 98,
   "metadata": {},
   "outputs": [],
   "source": [
    "orig = image.copy()\n",
    "(H, W) = image.shape[:2]\n",
    "(origH, origW) = image.shape[:2]"
   ]
  },
  {
   "cell_type": "code",
   "execution_count": 99,
   "metadata": {},
   "outputs": [],
   "source": [
    "(newW, newH) = (640, 320)\n",
    "rW = origW / float(newW)\n",
    "rH = origH / float(newH)"
   ]
  },
  {
   "cell_type": "code",
   "execution_count": 100,
   "metadata": {},
   "outputs": [],
   "source": [
    "image = cv2.resize(image, (newW, newH))\n",
    "(H, W) = image.shape[:2]"
   ]
  },
  {
   "cell_type": "code",
   "execution_count": 101,
   "metadata": {},
   "outputs": [],
   "source": [
    "layerNames = [\n",
    "    \"feature_fusion/Conv_7/Sigmoid\",\n",
    "    \"feature_fusion/concat_3\"]"
   ]
  },
  {
   "cell_type": "code",
   "execution_count": 102,
   "metadata": {},
   "outputs": [
    {
     "name": "stdout",
     "output_type": "stream",
     "text": [
      "[INFO] loading EAST text detector...\n"
     ]
    }
   ],
   "source": [
    "print(\"[INFO] loading EAST text detector...\")\n",
    "net = cv2.dnn.readNet(\"frozen_east_text_detection.pb\")"
   ]
  },
  {
   "cell_type": "code",
   "execution_count": 103,
   "metadata": {},
   "outputs": [],
   "source": [
    "blob = cv2.dnn.blobFromImage(image, 1.0, (W, H),\n",
    "    (123.68, 116.78, 103.94), swapRB=True, crop=False)\n",
    "net.setInput(blob)\n",
    "(scores, geometry) = net.forward(layerNames)"
   ]
  },
  {
   "cell_type": "code",
   "execution_count": 104,
   "metadata": {},
   "outputs": [
    {
     "name": "stdout",
     "output_type": "stream",
     "text": [
      "(array([[[[2.8665471e-07, 1.3646307e-06, 9.2993054e-07, ...,\n",
      "          1.3715144e-06, 2.2853322e-07, 1.9868658e-06],\n",
      "         [1.7976428e-06, 1.2016554e-06, 9.1276718e-07, ...,\n",
      "          1.5079665e-06, 1.1782320e-07, 1.3767392e-06],\n",
      "         [1.6120716e-06, 8.6987120e-07, 7.8977757e-07, ...,\n",
      "          1.0829592e-06, 4.5932477e-08, 2.0200375e-06],\n",
      "         ...,\n",
      "         [3.2559751e-06, 4.5246335e-07, 3.7608137e-07, ...,\n",
      "          5.2966419e-07, 8.6964249e-08, 3.7344416e-06],\n",
      "         [1.0496191e-06, 7.2751970e-07, 9.2935602e-07, ...,\n",
      "          1.6120810e-06, 9.6534382e-07, 4.5304505e-06],\n",
      "         [1.3715195e-06, 2.1222962e-07, 2.0891441e-07, ...,\n",
      "          3.0608518e-07, 8.9949431e-08, 2.7057894e-07]]]], dtype=float32), array([[[[ 1.59562668e+02,  1.26234146e+02,  1.31599304e+02, ...,\n",
      "           1.31972672e+02,  1.23717857e+02,  1.56905884e+02],\n",
      "         [ 1.28484344e+02,  7.16680984e+01,  7.47250824e+01, ...,\n",
      "           7.65824509e+01,  7.53249893e+01,  1.13380325e+02],\n",
      "         [ 1.33859802e+02,  7.67176666e+01,  7.97546005e+01, ...,\n",
      "           8.24894409e+01,  8.25125656e+01,  1.21303154e+02],\n",
      "         ...,\n",
      "         [ 1.35814774e+02,  8.19490967e+01,  9.07363892e+01, ...,\n",
      "           8.92452164e+01,  8.82547455e+01,  1.24570610e+02],\n",
      "         [ 1.32833817e+02,  7.89541626e+01,  9.33661880e+01, ...,\n",
      "           9.14855347e+01,  8.62380753e+01,  1.16384392e+02],\n",
      "         [ 1.72604889e+02,  1.27476608e+02,  1.43595749e+02, ...,\n",
      "           1.34933502e+02,  1.27186417e+02,  1.49154404e+02]],\n",
      "\n",
      "        [[ 1.13221367e+02,  8.80107803e+01,  8.50399017e+01, ...,\n",
      "           9.48873520e+01,  9.07874756e+01,  1.16664146e+02],\n",
      "         [ 8.54217758e+01,  4.83995781e+01,  4.65113029e+01, ...,\n",
      "           5.46079712e+01,  5.33948402e+01,  8.64553223e+01],\n",
      "         [ 8.73808823e+01,  4.78227119e+01,  4.54516716e+01, ...,\n",
      "           5.63977242e+01,  5.37784081e+01,  8.92401123e+01],\n",
      "         ...,\n",
      "         [ 9.97951431e+01,  6.73932419e+01,  6.95857162e+01, ...,\n",
      "           7.44707413e+01,  7.06110077e+01,  1.03080124e+02],\n",
      "         [ 1.04496170e+02,  7.28199921e+01,  7.61774750e+01, ...,\n",
      "           8.29205551e+01,  7.59982529e+01,  1.05238083e+02],\n",
      "         [ 1.21081604e+02,  1.04564392e+02,  1.10340294e+02, ...,\n",
      "           1.14793465e+02,  1.11402512e+02,  1.25260796e+02]],\n",
      "\n",
      "        [[ 9.60534363e+01,  8.35823746e+01,  8.33191528e+01, ...,\n",
      "           8.90135727e+01,  8.67435379e+01,  1.08700653e+02],\n",
      "         [ 8.52755890e+01,  4.76676292e+01,  4.36762238e+01, ...,\n",
      "           5.18270187e+01,  5.14405746e+01,  9.10978928e+01],\n",
      "         [ 8.33311768e+01,  4.65774040e+01,  4.21963348e+01, ...,\n",
      "           5.25400467e+01,  5.13942642e+01,  9.18193436e+01],\n",
      "         ...,\n",
      "         [ 9.81068420e+01,  6.22862206e+01,  7.00968552e+01, ...,\n",
      "           7.51650696e+01,  7.50398483e+01,  1.08712936e+02],\n",
      "         [ 9.45654221e+01,  6.23975029e+01,  6.80223770e+01, ...,\n",
      "           7.20614700e+01,  6.95638428e+01,  9.89378815e+01],\n",
      "         [ 1.23277580e+02,  1.27476273e+02,  1.27365524e+02, ...,\n",
      "           1.31503891e+02,  1.28418289e+02,  1.48175751e+02]],\n",
      "\n",
      "        [[ 1.35873901e+02,  1.14677490e+02,  1.01984291e+02, ...,\n",
      "           1.15072731e+02,  1.19460640e+02,  1.51102142e+02],\n",
      "         [ 8.98346100e+01,  6.01699982e+01,  4.91818390e+01, ...,\n",
      "           6.39517899e+01,  6.72309875e+01,  1.12893509e+02],\n",
      "         [ 8.55316696e+01,  5.52827034e+01,  4.40481262e+01, ...,\n",
      "           6.16843414e+01,  6.46314545e+01,  1.10541824e+02],\n",
      "         ...,\n",
      "         [ 1.06095268e+02,  8.34460373e+01,  8.28635025e+01, ...,\n",
      "           8.74302216e+01,  8.72477341e+01,  1.46090820e+02],\n",
      "         [ 1.11150955e+02,  8.35123672e+01,  8.24532776e+01, ...,\n",
      "           9.07203903e+01,  8.83117371e+01,  1.40890137e+02],\n",
      "         [ 1.54729218e+02,  1.20166054e+02,  1.09379013e+02, ...,\n",
      "           1.23083138e+02,  1.23046082e+02,  1.74254120e+02]],\n",
      "\n",
      "        [[-3.25477719e-02,  1.58604383e-02,  1.39724612e-02, ...,\n",
      "           1.69907212e-02,  2.34788060e-02,  4.39546704e-02],\n",
      "         [-1.67769790e-02, -1.96665525e-03,  1.24790668e-02, ...,\n",
      "           9.42635536e-03,  2.10967064e-02,  2.34037638e-03],\n",
      "         [-6.13737106e-03,  7.07614422e-03,  1.72296762e-02, ...,\n",
      "           1.80396438e-02,  2.93596387e-02,  5.05745411e-03],\n",
      "         ...,\n",
      "         [-2.05253363e-02,  3.77473235e-02,  1.06549263e-02, ...,\n",
      "           4.26259041e-02,  5.31648993e-02,  1.63362622e-02],\n",
      "         [-3.45920324e-02,  3.08950543e-02,  1.24576092e-02, ...,\n",
      "           4.10610437e-02,  4.77175117e-02,  2.70646214e-02],\n",
      "         [-4.44021225e-02, -6.73763156e-02, -4.38125730e-02, ...,\n",
      "          -4.41355109e-02, -4.39993739e-02, -2.62987614e-02]]]],\n",
      "      dtype=float32))\n"
     ]
    }
   ],
   "source": [
    "print((scores, geometry))"
   ]
  },
  {
   "cell_type": "code",
   "execution_count": 105,
   "metadata": {},
   "outputs": [
    {
     "name": "stdout",
     "output_type": "stream",
     "text": [
      "(array([[[[2.8665471e-07, 1.3646307e-06, 9.2993054e-07, ...,\n",
      "          1.3715144e-06, 2.2853322e-07, 1.9868658e-06],\n",
      "         [1.7976428e-06, 1.2016554e-06, 9.1276718e-07, ...,\n",
      "          1.5079665e-06, 1.1782320e-07, 1.3767392e-06],\n",
      "         [1.6120716e-06, 8.6987120e-07, 7.8977757e-07, ...,\n",
      "          1.0829592e-06, 4.5932477e-08, 2.0200375e-06],\n",
      "         ...,\n",
      "         [3.2559751e-06, 4.5246335e-07, 3.7608137e-07, ...,\n",
      "          5.2966419e-07, 8.6964249e-08, 3.7344416e-06],\n",
      "         [1.0496191e-06, 7.2751970e-07, 9.2935602e-07, ...,\n",
      "          1.6120810e-06, 9.6534382e-07, 4.5304505e-06],\n",
      "         [1.3715195e-06, 2.1222962e-07, 2.0891441e-07, ...,\n",
      "          3.0608518e-07, 8.9949431e-08, 2.7057894e-07]]]], dtype=float32), array([[[[ 1.59562668e+02,  1.26234146e+02,  1.31599304e+02, ...,\n",
      "           1.31972672e+02,  1.23717857e+02,  1.56905884e+02],\n",
      "         [ 1.28484344e+02,  7.16680984e+01,  7.47250824e+01, ...,\n",
      "           7.65824509e+01,  7.53249893e+01,  1.13380325e+02],\n",
      "         [ 1.33859802e+02,  7.67176666e+01,  7.97546005e+01, ...,\n",
      "           8.24894409e+01,  8.25125656e+01,  1.21303154e+02],\n",
      "         ...,\n",
      "         [ 1.35814774e+02,  8.19490967e+01,  9.07363892e+01, ...,\n",
      "           8.92452164e+01,  8.82547455e+01,  1.24570610e+02],\n",
      "         [ 1.32833817e+02,  7.89541626e+01,  9.33661880e+01, ...,\n",
      "           9.14855347e+01,  8.62380753e+01,  1.16384392e+02],\n",
      "         [ 1.72604889e+02,  1.27476608e+02,  1.43595749e+02, ...,\n",
      "           1.34933502e+02,  1.27186417e+02,  1.49154404e+02]],\n",
      "\n",
      "        [[ 1.13221367e+02,  8.80107803e+01,  8.50399017e+01, ...,\n",
      "           9.48873520e+01,  9.07874756e+01,  1.16664146e+02],\n",
      "         [ 8.54217758e+01,  4.83995781e+01,  4.65113029e+01, ...,\n",
      "           5.46079712e+01,  5.33948402e+01,  8.64553223e+01],\n",
      "         [ 8.73808823e+01,  4.78227119e+01,  4.54516716e+01, ...,\n",
      "           5.63977242e+01,  5.37784081e+01,  8.92401123e+01],\n",
      "         ...,\n",
      "         [ 9.97951431e+01,  6.73932419e+01,  6.95857162e+01, ...,\n",
      "           7.44707413e+01,  7.06110077e+01,  1.03080124e+02],\n",
      "         [ 1.04496170e+02,  7.28199921e+01,  7.61774750e+01, ...,\n",
      "           8.29205551e+01,  7.59982529e+01,  1.05238083e+02],\n",
      "         [ 1.21081604e+02,  1.04564392e+02,  1.10340294e+02, ...,\n",
      "           1.14793465e+02,  1.11402512e+02,  1.25260796e+02]],\n",
      "\n",
      "        [[ 9.60534363e+01,  8.35823746e+01,  8.33191528e+01, ...,\n",
      "           8.90135727e+01,  8.67435379e+01,  1.08700653e+02],\n",
      "         [ 8.52755890e+01,  4.76676292e+01,  4.36762238e+01, ...,\n",
      "           5.18270187e+01,  5.14405746e+01,  9.10978928e+01],\n",
      "         [ 8.33311768e+01,  4.65774040e+01,  4.21963348e+01, ...,\n",
      "           5.25400467e+01,  5.13942642e+01,  9.18193436e+01],\n",
      "         ...,\n",
      "         [ 9.81068420e+01,  6.22862206e+01,  7.00968552e+01, ...,\n",
      "           7.51650696e+01,  7.50398483e+01,  1.08712936e+02],\n",
      "         [ 9.45654221e+01,  6.23975029e+01,  6.80223770e+01, ...,\n",
      "           7.20614700e+01,  6.95638428e+01,  9.89378815e+01],\n",
      "         [ 1.23277580e+02,  1.27476273e+02,  1.27365524e+02, ...,\n",
      "           1.31503891e+02,  1.28418289e+02,  1.48175751e+02]],\n",
      "\n",
      "        [[ 1.35873901e+02,  1.14677490e+02,  1.01984291e+02, ...,\n",
      "           1.15072731e+02,  1.19460640e+02,  1.51102142e+02],\n",
      "         [ 8.98346100e+01,  6.01699982e+01,  4.91818390e+01, ...,\n",
      "           6.39517899e+01,  6.72309875e+01,  1.12893509e+02],\n",
      "         [ 8.55316696e+01,  5.52827034e+01,  4.40481262e+01, ...,\n",
      "           6.16843414e+01,  6.46314545e+01,  1.10541824e+02],\n",
      "         ...,\n",
      "         [ 1.06095268e+02,  8.34460373e+01,  8.28635025e+01, ...,\n",
      "           8.74302216e+01,  8.72477341e+01,  1.46090820e+02],\n",
      "         [ 1.11150955e+02,  8.35123672e+01,  8.24532776e+01, ...,\n",
      "           9.07203903e+01,  8.83117371e+01,  1.40890137e+02],\n",
      "         [ 1.54729218e+02,  1.20166054e+02,  1.09379013e+02, ...,\n",
      "           1.23083138e+02,  1.23046082e+02,  1.74254120e+02]],\n",
      "\n",
      "        [[-3.25477719e-02,  1.58604383e-02,  1.39724612e-02, ...,\n",
      "           1.69907212e-02,  2.34788060e-02,  4.39546704e-02],\n",
      "         [-1.67769790e-02, -1.96665525e-03,  1.24790668e-02, ...,\n",
      "           9.42635536e-03,  2.10967064e-02,  2.34037638e-03],\n",
      "         [-6.13737106e-03,  7.07614422e-03,  1.72296762e-02, ...,\n",
      "           1.80396438e-02,  2.93596387e-02,  5.05745411e-03],\n",
      "         ...,\n",
      "         [-2.05253363e-02,  3.77473235e-02,  1.06549263e-02, ...,\n",
      "           4.26259041e-02,  5.31648993e-02,  1.63362622e-02],\n",
      "         [-3.45920324e-02,  3.08950543e-02,  1.24576092e-02, ...,\n",
      "           4.10610437e-02,  4.77175117e-02,  2.70646214e-02],\n",
      "         [-4.44021225e-02, -6.73763156e-02, -4.38125730e-02, ...,\n",
      "          -4.41355109e-02, -4.39993739e-02, -2.62987614e-02]]]],\n",
      "      dtype=float32))\n"
     ]
    }
   ],
   "source": [
    "from imutils.object_detection import non_max_suppression\n",
    "(rects, confidences) = decode_predictions(scores, geometry)\n",
    "boxes = non_max_suppression(np.array(rects), probs=confidences)\n",
    "print((scores, geometry))"
   ]
  },
  {
   "cell_type": "code",
   "execution_count": 106,
   "metadata": {},
   "outputs": [],
   "source": [
    "results = []"
   ]
  },
  {
   "cell_type": "code",
   "execution_count": 107,
   "metadata": {},
   "outputs": [],
   "source": [
    "for (startX, startY, endX, endY) in boxes:\n",
    "         # scale the bounding box coordinates based on the respective\n",
    "         # ratios\n",
    "         startX = int(startX * rW)\n",
    "         startY = int(startY * rH)\n",
    "         endX = int(endX * rW)\n",
    "         endY = int(endY * rH)\n",
    "\n",
    "         # in order to obtain a better OCR of the text we can potentially\n",
    "         # apply a bit of padding surrounding the bounding box -- here we\n",
    "         # are computing the deltas in both the x and y directions\n",
    "         dX = int((endX - startX) * 1)\n",
    "         dY = int((endY - startY) * 1)\n",
    "\n",
    "         # apply padding to each side of the bounding box, respectively\n",
    "         startX = max(0, startX - dX)\n",
    "         startY = max(0, startY - dY)\n",
    "         endX = min(origW, endX + (dX * 2))\n",
    "         endY = min(origH, endY + (dY * 2))\n",
    "\n",
    "         # extract the actual padded ROI\n",
    "         roi = orig[startY:endY, startX:endX]\n",
    "\n",
    "         # in order to apply Tesseract v4 to OCR text we must supply\n",
    "         # (1) a language, (2) an OEM flag of 4, indicating that the we\n",
    "         # wish to use the LSTM neural net model for OCR, and finally\n",
    "         # (3) an OEM value, in this case, 7 which implies that we are\n",
    "         # treating the ROI as a single line of text\n",
    "         config = (\"-l eng --oem 1 --psm 7\")\n",
    "         text = pytesseract.image_to_string(roi, config=config)\n",
    "\n",
    "         # add the bounding box coordinates and OCR'd text to the list\n",
    "         # of results\n",
    "         results.append(((startX, startY, endX, endY), text))\n",
    "         print(\"==================\")\n"
   ]
  },
  {
   "cell_type": "code",
   "execution_count": 108,
   "metadata": {},
   "outputs": [
    {
     "name": "stdout",
     "output_type": "stream",
     "text": [
      "[]\n"
     ]
    }
   ],
   "source": [
    "print(results)"
   ]
  },
  {
   "cell_type": "code",
   "execution_count": 109,
   "metadata": {},
   "outputs": [],
   "source": [
    "results = sorted(results, key=lambda r:r[0][1])\n",
    "\n",
    "# loop over the results\n",
    "for ((startX, startY, endX, endY), text) in results:\n",
    "         # display the text OCR'd by Tesseract\n",
    "         print(\"OCR TEXT\")\n",
    "         print(\"========\")\n",
    "         print(\"{}\\n\".format(text))\n",
    "\n",
    "         # strip out non-ASCII text so we can draw the text on the image\n",
    "         # using OpenCV, then draw the text and a bounding box surrounding\n",
    "         # the text region of the input image\n",
    "         text = \"\".join([c if ord(c) < 128 else \"\" for c in text]).strip()\n",
    "         output = orig.copy()\n",
    "         cv2.rectangle(output, (startX, startY), (endX, endY),\n",
    "                  (0, 0, 255), 2)\n",
    "         cv2.putText(output, text, (startX, startY - 20),\n",
    "                  cv2.FONT_HERSHEY_SIMPLEX, 1.2, (0, 0, 255), 3)\n",
    "\n",
    "         "
   ]
  },
  {
   "cell_type": "code",
   "execution_count": 110,
   "metadata": {},
   "outputs": [
    {
     "ename": "NameError",
     "evalue": "name 'output' is not defined",
     "output_type": "error",
     "traceback": [
      "\u001b[1;31m---------------------------------------------------------------------------\u001b[0m",
      "\u001b[1;31mNameError\u001b[0m                                 Traceback (most recent call last)",
      "\u001b[1;32m<ipython-input-110-34e416975314>\u001b[0m in \u001b[0;36m<module>\u001b[1;34m\u001b[0m\n\u001b[0;32m      1\u001b[0m \u001b[1;31m# show the output image\u001b[0m\u001b[1;33m\u001b[0m\u001b[1;33m\u001b[0m\u001b[1;33m\u001b[0m\u001b[0m\n\u001b[1;32m----> 2\u001b[1;33m \u001b[0mcv2\u001b[0m\u001b[1;33m.\u001b[0m\u001b[0mimshow\u001b[0m\u001b[1;33m(\u001b[0m\u001b[1;34m\"Text Detection\"\u001b[0m\u001b[1;33m,\u001b[0m \u001b[0moutput\u001b[0m\u001b[1;33m)\u001b[0m\u001b[1;33m\u001b[0m\u001b[1;33m\u001b[0m\u001b[0m\n\u001b[0m\u001b[0;32m      3\u001b[0m \u001b[0mcv2\u001b[0m\u001b[1;33m.\u001b[0m\u001b[0mwaitKey\u001b[0m\u001b[1;33m(\u001b[0m\u001b[1;36m0\u001b[0m\u001b[1;33m)\u001b[0m\u001b[1;33m\u001b[0m\u001b[1;33m\u001b[0m\u001b[0m\n",
      "\u001b[1;31mNameError\u001b[0m: name 'output' is not defined"
     ]
    }
   ],
   "source": [
    "# show the output image\n",
    "cv2.imshow(\"Text Detection\", output)\n",
    "cv2.waitKey(0)"
   ]
  },
  {
   "cell_type": "code",
   "execution_count": null,
   "metadata": {},
   "outputs": [],
   "source": []
  },
  {
   "cell_type": "code",
   "execution_count": null,
   "metadata": {},
   "outputs": [],
   "source": [
    "\n"
   ]
  }
 ],
 "metadata": {
  "kernelspec": {
   "display_name": "Python 3",
   "language": "python",
   "name": "python3"
  },
  "language_info": {
   "codemirror_mode": {
    "name": "ipython",
    "version": 3
   },
   "file_extension": ".py",
   "mimetype": "text/x-python",
   "name": "python",
   "nbconvert_exporter": "python",
   "pygments_lexer": "ipython3",
   "version": "3.7.3"
  }
 },
 "nbformat": 4,
 "nbformat_minor": 2
}
